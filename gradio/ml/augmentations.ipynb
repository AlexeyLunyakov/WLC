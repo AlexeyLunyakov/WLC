{
  "nbformat": 4,
  "nbformat_minor": 0,
  "metadata": {
    "colab": {
      "provenance": []
    },
    "kernelspec": {
      "name": "python3",
      "display_name": "Python 3"
    },
    "language_info": {
      "name": "python"
    }
  },
  "cells": [
    {
      "cell_type": "markdown",
      "source": [
        "#Тестирование аугментаций Albumentations"
      ],
      "metadata": {
        "id": "jflDq1ITw9pV"
      }
    },
    {
      "cell_type": "markdown",
      "source": [
        "###Зависимости"
      ],
      "metadata": {
        "id": "-kxL9wZQxZ4G"
      }
    },
    {
      "cell_type": "code",
      "source": [
        "#@markdown Импорт библиотек\n",
        "import IPython.display as ipd\n",
        "from albumentations import *\n",
        "import cv2\n",
        "import os\n",
        "import torch\n",
        "from shutil import copyfile\n",
        "from tqdm import tqdm\n",
        "import splitfolders\n",
        "from pathlib import Path\n",
        "ipd.clear_output()"
      ],
      "metadata": {
        "id": "L5NRXPZKxdTz"
      },
      "execution_count": null,
      "outputs": []
    },
    {
      "cell_type": "markdown",
      "source": [
        "###Аугментации"
      ],
      "metadata": {
        "id": "0P9NsS8uxHjk"
      }
    },
    {
      "cell_type": "code",
      "execution_count": null,
      "metadata": {
        "id": "P8t2b1U1w4np"
      },
      "outputs": [],
      "source": [
        "#@markdown Туман\n",
        "aug_1 = Compose([\n",
        "    RandomFog(always_apply=False, p=1.0, fog_coef_lower=0.26, fog_coef_upper=0.46, alpha_coef=0.58),\n",
        "    GaussNoise(always_apply=False, p=1.0, var_limit=(10.0, 101.06), per_channel=True, mean=1.42),],\n",
        "    bbox_params=BboxParams(format='yolo'))"
      ]
    },
    {
      "cell_type": "code",
      "source": [
        "#@markdown Работа с освещением\n",
        "aug_2 = Compose([\n",
        "    CLAHE(always_apply=False, p=1.0, clip_limit=(1, 9), tile_grid_size=(7, 9)),\n",
        "    ColorJitter(always_apply=False, p=1.0, brightness=(0.8, 1.46), contrast=(0.8, 1.43), saturation=(0.12, 0.93), hue=(-0.2, 0.06)),],\n",
        "    bbox_params=BboxParams(format='yolo'))"
      ],
      "metadata": {
        "id": "qlfnXMkvxX6s"
      },
      "execution_count": null,
      "outputs": []
    },
    {
      "cell_type": "code",
      "source": [
        "#@markdown Дождь\n",
        "aug_3 = Compose([\n",
        "    RandomRain(always_apply=False, p=1.0, slant_lower=-10, slant_upper=10, drop_length=20, drop_width=1, drop_color=(0, 0, 0), blur_value=3, brightness_coefficient=0.77, rain_type=None),],\n",
        "    bbox_params=BboxParams(format='yolo'))"
      ],
      "metadata": {
        "id": "sf7yCCi0yxQE"
      },
      "execution_count": null,
      "outputs": []
    },
    {
      "cell_type": "code",
      "source": [
        "#@markdown Оптические искажения\n",
        "aug_5 = Compose([\n",
        "    OpticalDistortion(always_apply=False, p=1.0, distort_limit=(0.0, 0.3), shift_limit=(-0.09, 0.18), interpolation=0, border_mode=0, value=(0, 0, 0), mask_value=None),],\n",
        "    bbox_params=BboxParams(format='yolo'))"
      ],
      "metadata": {
        "id": "Mc2uybMxy9dg"
      },
      "execution_count": null,
      "outputs": []
    },
    {
      "cell_type": "markdown",
      "source": [
        "###Работа с данными"
      ],
      "metadata": {
        "id": "FQorby9nxTYF"
      }
    },
    {
      "cell_type": "code",
      "source": [
        "#@markdown Загрузка изображения\n",
        "def imageLoad(path):\n",
        "    image = cv2.imread(path)\n",
        "    return image"
      ],
      "metadata": {
        "id": "_FeLN9wTxYPQ"
      },
      "execution_count": null,
      "outputs": []
    },
    {
      "cell_type": "code",
      "source": [
        "#@markdown\n",
        "common_path = './project-11-at-2024-05-17-17-46-fasdqe18'\n",
        "path_images = os.path.join(common_path, 'images')\n",
        "path_labels = os.path.join(common_path, 'labels')"
      ],
      "metadata": {
        "id": "SNE5a5yfz_AG"
      },
      "execution_count": null,
      "outputs": []
    },
    {
      "cell_type": "code",
      "source": [
        "#@markdown\n",
        "for filename in tqdm(os.listdir(path_images)):\n",
        "    image = imageLoad(os.path.join(path_images, filename))\n",
        "\n",
        "    with open(os.path.join(path_labels, f'{Path(filename).stem}.txt')) as label_file:\n",
        "        annotations = label_file.readlines()\n",
        "        bboxes = []\n",
        "        for el in annotations:\n",
        "            if el == '\\n':\n",
        "                continue\n",
        "            bboxes.append(list(map(float, el.split()[1:])))\n",
        "            bboxes[-1].append(el.split()[0])\n",
        "\n",
        "    augmentations = [aug_1, aug_2, aug_3, aug_4, aug_5]\n",
        "    for i, el in enumerate(augmentations):\n",
        "        new = el(image=image, bboxes=bboxes)\n",
        "        new_image = new['image']\n",
        "        new_bboxes = new['bboxes']\n",
        "        labels = []\n",
        "        for bbox in new_bboxes:\n",
        "            class_annotation = bbox[-1]\n",
        "            bbox = list(map(str, bbox[:-1]))\n",
        "            bbox.insert(0, class_annotation)\n",
        "            labels.append(\" \".join(bbox) + '\\n')\n",
        "        new_name = f'{Path(filename).stem}-{i + 1}'\n",
        "        cv2.imwrite(os.path.join(path_images, f'{new_name}.jpg'), new_image)\n",
        "        with open(os.path.join(path_labels, f'{new_name}.txt'), 'w') as new_label:\n",
        "            new_label.writelines(labels)\n"
      ],
      "metadata": {
        "id": "3PMLyPCZz0cm"
      },
      "execution_count": null,
      "outputs": []
    }
  ]
}